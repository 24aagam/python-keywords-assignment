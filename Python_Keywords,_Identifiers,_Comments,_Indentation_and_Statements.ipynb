{
  "nbformat": 4,
  "nbformat_minor": 0,
  "metadata": {
    "colab": {
      "provenance": []
    },
    "kernelspec": {
      "name": "python3",
      "display_name": "Python 3"
    },
    "language_info": {
      "name": "python"
    }
  },
  "cells": [
    {
      "cell_type": "markdown",
      "source": [
        "**1. Explain the significance of Python keywords and provide examples of five keywords.**\n",
        "\n",
        "**Ans:** Python keywords are reserved set of words that cannot be used as variable name, function name, class name or any other identifiers. For example, del, def, or, and, class.\n",
        "\n",
        "\n",
        "---\n",
        "\n",
        "\n",
        "\n",
        "\n",
        "\n",
        "\n",
        "\n"
      ],
      "metadata": {
        "id": "lQDzcQWXbNC6"
      }
    },
    {
      "cell_type": "markdown",
      "source": [
        "\n",
        "**2. Describe the rules for defining identifiers in Python and provide an example.**\n",
        "\n",
        "**Ans:** Rules for defining identifiers in Python as follow:\n",
        "\n",
        "\n",
        "\n",
        "*   An identifier starts with a letter and a underscore(_) character.\n",
        "*   Avoid using keywords and special characters.\n",
        "*   Python identifiers can have lowercase letters(a - z), uppercase letters(A - Z), and digits(0 - 9). Yet, digit cannot be used in the begin or have only digit.\n",
        "*   Python identifier names are case-sensitive, meaning that \"abc\" and \"ABC\" are considered\n",
        "as different identifiers. Pay attention to letter casing when using identifiers.\n",
        "\n",
        "*   Valid identifiers: _abc, PWSKILLS, identifier_assingment, name1.\n",
        "*   Invalid identifiers: 1name, $pwskills, a-bc.\n",
        "\n",
        "\n",
        "---\n",
        "\n",
        "\n",
        "\n",
        "\n",
        "\n",
        "\n",
        "\n",
        "         \n",
        "\n"
      ],
      "metadata": {
        "id": "lQXBieuseHoO"
      }
    },
    {
      "cell_type": "markdown",
      "source": [
        "**3. What are comments in Python, and why are they useful? Provide an example.**\n",
        "\n",
        "**Ans:** In Python, comments are commenting within the code that are not executed when the program runs. Comments are used for explaination of the code to other programmers or anyone reading a code. Comments are ignored by the Python interpreter and are only for human understanding.\n",
        "\n",
        "There are three types of comment: Single line comment denoted by hashtag(#),\n",
        "multi line comment denoted by single or double quotes(''' ''', \"\"\" \"\"\"), and docstring is used to document  functions, classes, and modules and denoted by same as multi line comments.\n",
        "\n",
        "For example, #This is single comment.\n",
        "\n",
        "\n",
        "---\n",
        "\n"
      ],
      "metadata": {
        "id": "lyPBFKk4koSF"
      }
    },
    {
      "cell_type": "markdown",
      "source": [
        "**4. Why is proper indentation important in Python?**\n",
        "\n",
        "**Ans:** Proper indentation in Python is important for writing clean and readable code.\n",
        "\n",
        "\n",
        "---\n",
        "\n"
      ],
      "metadata": {
        "id": "lMCZFhz6tMWI"
      }
    },
    {
      "cell_type": "markdown",
      "source": [
        "**5. What happens if indentation is incorrect in Python?**\n",
        "\n",
        "**Ans:** Inproper indentation in Python will throw indentation error. And code won't be executed.\n",
        "\n",
        "\n",
        "---\n",
        "\n"
      ],
      "metadata": {
        "id": "A7rH41t0uoF1"
      }
    },
    {
      "cell_type": "markdown",
      "source": [
        "**6. Differentiate between expression and statement in Python with examples.**\n",
        "\n",
        "**Ans:**  **1. Expressions:**\n",
        "\n",
        "\n",
        "\n",
        "*   Expressions evaluate to a value.\n",
        "*   They can be used in assignments, function calls, or as operands.\n",
        "*   Expressions consist of identifiers, literals, and operators.\n",
        "*   Examples of expressions:\n",
        "        \n",
        "\n",
        "                  * 10 + 20\n",
        "                  * add = 10 + 20\n",
        "                  * name = \"String literal\"\n",
        "          \n",
        "\n",
        "\n",
        "\n",
        "\n",
        "\n",
        "**2. Statements:**\n",
        "\n",
        "\n",
        "*   Statements perform actions or operations.\n",
        "*   They make up a line (or several lines) of Python code.\n",
        "\n",
        "*   Expressions are also considered statements.\n",
        "*   Examples of statements:\n",
        "               print(add)\n",
        "              , if a == True:\n",
        "                  print(\"True\")\n",
        "              , for i in range(10):\n",
        "                  print(i)    \n",
        "\n",
        "\n",
        "---\n",
        "\n",
        "\n",
        "\n",
        "\n",
        "\n",
        "\n",
        "\n",
        "\n"
      ],
      "metadata": {
        "id": "DLFC7HfRvKKk"
      }
    }
  ]
}